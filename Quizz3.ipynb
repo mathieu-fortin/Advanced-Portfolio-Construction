{
 "cells": [
  {
   "cell_type": "code",
   "execution_count": 1,
   "metadata": {},
   "outputs": [],
   "source": [
    "import numpy as np\n",
    "import pandas as pd\n",
    "\n",
    "import edhec_risk_kit_206 as erk\n",
    "\n",
    "%load_ext autoreload\n",
    "%autoreload 2\n",
    "%matplotlib inline"
   ]
  },
  {
   "cell_type": "code",
   "execution_count": 3,
   "metadata": {},
   "outputs": [],
   "source": [
    "inds = ['Hlth', 'Fin', 'Whlsl', 'Rtail', 'Food']\n",
    "ind_rets = erk.get_ind_returns(weighting=\"vw\", n_inds=49)[\"2013\":\"2018\"][inds]\n",
    "ind_mcap = erk.get_ind_market_caps(49, weights=True)[\"2013\":\"2018\"][inds]"
   ]
  },
  {
   "cell_type": "markdown",
   "metadata": {},
   "source": [
    "Weights"
   ]
  },
  {
   "cell_type": "code",
   "execution_count": 33,
   "metadata": {},
   "outputs": [
    {
     "data": {
      "text/plain": [
       "Rtail    0.537344\n",
       "Fin      0.184533\n",
       "Food     0.139456\n",
       "Whlsl    0.096043\n",
       "Hlth     0.042624\n",
       "Name: 2013-02, dtype: float64"
      ]
     },
     "execution_count": 33,
     "metadata": {},
     "output_type": "execute_result"
    }
   ],
   "source": [
    "weights = erk.weight_cw(ind_rets, ind_mcap)\n",
    "weights.sort_values(ascending=False)"
   ]
  },
  {
   "cell_type": "markdown",
   "metadata": {},
   "source": [
    "Volatility"
   ]
  },
  {
   "cell_type": "code",
   "execution_count": 44,
   "metadata": {},
   "outputs": [
    {
     "data": {
      "text/plain": [
       "array([0.16280055, 0.16775279, 0.13564368, 0.14123782, 0.12540067])"
      ]
     },
     "execution_count": 44,
     "metadata": {},
     "output_type": "execute_result"
    }
   ],
   "source": [
    "(np.diag(ind_rets.cov())*12)**0.5"
   ]
  },
  {
   "cell_type": "code",
   "execution_count": 58,
   "metadata": {},
   "outputs": [
    {
     "data": {
      "text/html": [
       "<div>\n",
       "<style scoped>\n",
       "    .dataframe tbody tr th:only-of-type {\n",
       "        vertical-align: middle;\n",
       "    }\n",
       "\n",
       "    .dataframe tbody tr th {\n",
       "        vertical-align: top;\n",
       "    }\n",
       "\n",
       "    .dataframe thead th {\n",
       "        text-align: right;\n",
       "    }\n",
       "</style>\n",
       "<table border=\"1\" class=\"dataframe\">\n",
       "  <thead>\n",
       "    <tr style=\"text-align: right;\">\n",
       "      <th></th>\n",
       "      <th>0</th>\n",
       "    </tr>\n",
       "  </thead>\n",
       "  <tbody>\n",
       "    <tr>\n",
       "      <td>Hlth</td>\n",
       "      <td>0.162801</td>\n",
       "    </tr>\n",
       "    <tr>\n",
       "      <td>Fin</td>\n",
       "      <td>0.167753</td>\n",
       "    </tr>\n",
       "    <tr>\n",
       "      <td>Whlsl</td>\n",
       "      <td>0.135644</td>\n",
       "    </tr>\n",
       "    <tr>\n",
       "      <td>Rtail</td>\n",
       "      <td>0.141238</td>\n",
       "    </tr>\n",
       "    <tr>\n",
       "      <td>Food</td>\n",
       "      <td>0.125401</td>\n",
       "    </tr>\n",
       "  </tbody>\n",
       "</table>\n",
       "</div>"
      ],
      "text/plain": [
       "              0\n",
       "Hlth   0.162801\n",
       "Fin    0.167753\n",
       "Whlsl  0.135644\n",
       "Rtail  0.141238\n",
       "Food   0.125401"
      ]
     },
     "execution_count": 58,
     "metadata": {},
     "output_type": "execute_result"
    }
   ],
   "source": [
    "vols = pd.DataFrame(ind_rets.std()*np.sqrt(12))\n",
    "vols"
   ]
  },
  {
   "cell_type": "code",
   "execution_count": 34,
   "metadata": {},
   "outputs": [
    {
     "data": {
      "text/html": [
       "<div>\n",
       "<style scoped>\n",
       "    .dataframe tbody tr th:only-of-type {\n",
       "        vertical-align: middle;\n",
       "    }\n",
       "\n",
       "    .dataframe tbody tr th {\n",
       "        vertical-align: top;\n",
       "    }\n",
       "\n",
       "    .dataframe thead th {\n",
       "        text-align: right;\n",
       "    }\n",
       "</style>\n",
       "<table border=\"1\" class=\"dataframe\">\n",
       "  <thead>\n",
       "    <tr style=\"text-align: right;\">\n",
       "      <th></th>\n",
       "      <th>Hlth</th>\n",
       "      <th>Fin</th>\n",
       "      <th>Whlsl</th>\n",
       "      <th>Rtail</th>\n",
       "      <th>Food</th>\n",
       "    </tr>\n",
       "  </thead>\n",
       "  <tbody>\n",
       "    <tr>\n",
       "      <td>Hlth</td>\n",
       "      <td>1.000000</td>\n",
       "      <td>0.524886</td>\n",
       "      <td>0.650900</td>\n",
       "      <td>0.574227</td>\n",
       "      <td>0.371698</td>\n",
       "    </tr>\n",
       "    <tr>\n",
       "      <td>Fin</td>\n",
       "      <td>0.524886</td>\n",
       "      <td>1.000000</td>\n",
       "      <td>0.777653</td>\n",
       "      <td>0.595332</td>\n",
       "      <td>0.343016</td>\n",
       "    </tr>\n",
       "    <tr>\n",
       "      <td>Whlsl</td>\n",
       "      <td>0.650900</td>\n",
       "      <td>0.777653</td>\n",
       "      <td>1.000000</td>\n",
       "      <td>0.743754</td>\n",
       "      <td>0.541244</td>\n",
       "    </tr>\n",
       "    <tr>\n",
       "      <td>Rtail</td>\n",
       "      <td>0.574227</td>\n",
       "      <td>0.595332</td>\n",
       "      <td>0.743754</td>\n",
       "      <td>1.000000</td>\n",
       "      <td>0.575063</td>\n",
       "    </tr>\n",
       "    <tr>\n",
       "      <td>Food</td>\n",
       "      <td>0.371698</td>\n",
       "      <td>0.343016</td>\n",
       "      <td>0.541244</td>\n",
       "      <td>0.575063</td>\n",
       "      <td>1.000000</td>\n",
       "    </tr>\n",
       "  </tbody>\n",
       "</table>\n",
       "</div>"
      ],
      "text/plain": [
       "           Hlth       Fin     Whlsl     Rtail      Food\n",
       "Hlth   1.000000  0.524886  0.650900  0.574227  0.371698\n",
       "Fin    0.524886  1.000000  0.777653  0.595332  0.343016\n",
       "Whlsl  0.650900  0.777653  1.000000  0.743754  0.541244\n",
       "Rtail  0.574227  0.595332  0.743754  1.000000  0.575063\n",
       "Food   0.371698  0.343016  0.541244  0.575063  1.000000"
      ]
     },
     "execution_count": 34,
     "metadata": {},
     "output_type": "execute_result"
    }
   ],
   "source": [
    "rho = ind_rets.corr()\n",
    "rho"
   ]
  },
  {
   "cell_type": "code",
   "execution_count": 71,
   "metadata": {},
   "outputs": [
    {
     "data": {
      "text/html": [
       "<div>\n",
       "<style scoped>\n",
       "    .dataframe tbody tr th:only-of-type {\n",
       "        vertical-align: middle;\n",
       "    }\n",
       "\n",
       "    .dataframe tbody tr th {\n",
       "        vertical-align: top;\n",
       "    }\n",
       "\n",
       "    .dataframe thead th {\n",
       "        text-align: right;\n",
       "    }\n",
       "</style>\n",
       "<table border=\"1\" class=\"dataframe\">\n",
       "  <thead>\n",
       "    <tr style=\"text-align: right;\">\n",
       "      <th></th>\n",
       "      <th>Hlth</th>\n",
       "      <th>Fin</th>\n",
       "      <th>Whlsl</th>\n",
       "      <th>Rtail</th>\n",
       "      <th>Food</th>\n",
       "    </tr>\n",
       "  </thead>\n",
       "  <tbody>\n",
       "    <tr>\n",
       "      <td>Hlth</td>\n",
       "      <td>0.026504</td>\n",
       "      <td>0.014335</td>\n",
       "      <td>0.014374</td>\n",
       "      <td>0.013204</td>\n",
       "      <td>0.007588</td>\n",
       "    </tr>\n",
       "    <tr>\n",
       "      <td>Fin</td>\n",
       "      <td>0.014335</td>\n",
       "      <td>0.028141</td>\n",
       "      <td>0.017695</td>\n",
       "      <td>0.014105</td>\n",
       "      <td>0.007216</td>\n",
       "    </tr>\n",
       "    <tr>\n",
       "      <td>Whlsl</td>\n",
       "      <td>0.014374</td>\n",
       "      <td>0.017695</td>\n",
       "      <td>0.018399</td>\n",
       "      <td>0.014249</td>\n",
       "      <td>0.009206</td>\n",
       "    </tr>\n",
       "    <tr>\n",
       "      <td>Rtail</td>\n",
       "      <td>0.013204</td>\n",
       "      <td>0.014105</td>\n",
       "      <td>0.014249</td>\n",
       "      <td>0.019948</td>\n",
       "      <td>0.010185</td>\n",
       "    </tr>\n",
       "    <tr>\n",
       "      <td>Food</td>\n",
       "      <td>0.007588</td>\n",
       "      <td>0.007216</td>\n",
       "      <td>0.009206</td>\n",
       "      <td>0.010185</td>\n",
       "      <td>0.015725</td>\n",
       "    </tr>\n",
       "  </tbody>\n",
       "</table>\n",
       "</div>"
      ],
      "text/plain": [
       "           Hlth       Fin     Whlsl     Rtail      Food\n",
       "Hlth   0.026504  0.014335  0.014374  0.013204  0.007588\n",
       "Fin    0.014335  0.028141  0.017695  0.014105  0.007216\n",
       "Whlsl  0.014374  0.017695  0.018399  0.014249  0.009206\n",
       "Rtail  0.013204  0.014105  0.014249  0.019948  0.010185\n",
       "Food   0.007588  0.007216  0.009206  0.010185  0.015725"
      ]
     },
     "execution_count": 71,
     "metadata": {},
     "output_type": "execute_result"
    }
   ],
   "source": [
    "cov = ind_rets.cov()*12\n",
    "cov"
   ]
  },
  {
   "cell_type": "code",
   "execution_count": 68,
   "metadata": {},
   "outputs": [
    {
     "data": {
      "text/html": [
       "<div>\n",
       "<style scoped>\n",
       "    .dataframe tbody tr th:only-of-type {\n",
       "        vertical-align: middle;\n",
       "    }\n",
       "\n",
       "    .dataframe tbody tr th {\n",
       "        vertical-align: top;\n",
       "    }\n",
       "\n",
       "    .dataframe thead th {\n",
       "        text-align: right;\n",
       "    }\n",
       "</style>\n",
       "<table border=\"1\" class=\"dataframe\">\n",
       "  <thead>\n",
       "    <tr style=\"text-align: right;\">\n",
       "      <th></th>\n",
       "      <th>Hlth</th>\n",
       "      <th>Fin</th>\n",
       "      <th>Whlsl</th>\n",
       "      <th>Rtail</th>\n",
       "      <th>Food</th>\n",
       "    </tr>\n",
       "  </thead>\n",
       "  <tbody>\n",
       "    <tr>\n",
       "      <td>Hlth</td>\n",
       "      <td>0.026504</td>\n",
       "      <td>0.014335</td>\n",
       "      <td>0.014374</td>\n",
       "      <td>0.013204</td>\n",
       "      <td>0.007588</td>\n",
       "    </tr>\n",
       "    <tr>\n",
       "      <td>Fin</td>\n",
       "      <td>0.014335</td>\n",
       "      <td>0.028141</td>\n",
       "      <td>0.017695</td>\n",
       "      <td>0.014105</td>\n",
       "      <td>0.007216</td>\n",
       "    </tr>\n",
       "    <tr>\n",
       "      <td>Whlsl</td>\n",
       "      <td>0.014374</td>\n",
       "      <td>0.017695</td>\n",
       "      <td>0.018399</td>\n",
       "      <td>0.014249</td>\n",
       "      <td>0.009206</td>\n",
       "    </tr>\n",
       "    <tr>\n",
       "      <td>Rtail</td>\n",
       "      <td>0.013204</td>\n",
       "      <td>0.014105</td>\n",
       "      <td>0.014249</td>\n",
       "      <td>0.019948</td>\n",
       "      <td>0.010185</td>\n",
       "    </tr>\n",
       "    <tr>\n",
       "      <td>Food</td>\n",
       "      <td>0.007588</td>\n",
       "      <td>0.007216</td>\n",
       "      <td>0.009206</td>\n",
       "      <td>0.010185</td>\n",
       "      <td>0.015725</td>\n",
       "    </tr>\n",
       "  </tbody>\n",
       "</table>\n",
       "</div>"
      ],
      "text/plain": [
       "           Hlth       Fin     Whlsl     Rtail      Food\n",
       "Hlth   0.026504  0.014335  0.014374  0.013204  0.007588\n",
       "Fin    0.014335  0.028141  0.017695  0.014105  0.007216\n",
       "Whlsl  0.014374  0.017695  0.018399  0.014249  0.009206\n",
       "Rtail  0.013204  0.014105  0.014249  0.019948  0.010185\n",
       "Food   0.007588  0.007216  0.009206  0.010185  0.015725"
      ]
     },
     "execution_count": 68,
     "metadata": {},
     "output_type": "execute_result"
    }
   ],
   "source": [
    "sigma_prior = vols.dot(vols.T) * rho\n",
    "sigma_prior"
   ]
  },
  {
   "cell_type": "code",
   "execution_count": 75,
   "metadata": {},
   "outputs": [],
   "source": [
    "vols2 = ind_rets.std()*np.sqrt(12)\n",
    "sigma_prior = vols2.dot(vols2.T) * rho"
   ]
  },
  {
   "cell_type": "code",
   "execution_count": 142,
   "metadata": {},
   "outputs": [
    {
     "data": {
      "text/plain": [
       "Hlth     0.152854\n",
       "Food     0.157528\n",
       "Fin      0.176483\n",
       "Whlsl    0.201786\n",
       "Rtail    0.223770\n",
       "dtype: float64"
      ]
     },
     "execution_count": 142,
     "metadata": {},
     "output_type": "execute_result"
    }
   ],
   "source": [
    "pi = 2.5 * sigma_prior.dot(weights).squeeze()\n",
    "pi.sort_values()"
   ]
  },
  {
   "cell_type": "code",
   "execution_count": 119,
   "metadata": {},
   "outputs": [
    {
     "data": {
      "text/html": [
       "<div>\n",
       "<style scoped>\n",
       "    .dataframe tbody tr th:only-of-type {\n",
       "        vertical-align: middle;\n",
       "    }\n",
       "\n",
       "    .dataframe tbody tr th {\n",
       "        vertical-align: top;\n",
       "    }\n",
       "\n",
       "    .dataframe thead th {\n",
       "        text-align: right;\n",
       "    }\n",
       "</style>\n",
       "<table border=\"1\" class=\"dataframe\">\n",
       "  <thead>\n",
       "    <tr style=\"text-align: right;\">\n",
       "      <th></th>\n",
       "      <th>Hlth</th>\n",
       "      <th>Fin</th>\n",
       "      <th>Whlsl</th>\n",
       "      <th>Rtail</th>\n",
       "      <th>Food</th>\n",
       "    </tr>\n",
       "  </thead>\n",
       "  <tbody>\n",
       "    <tr>\n",
       "      <td>0</td>\n",
       "      <td>1.0</td>\n",
       "      <td>0.0</td>\n",
       "      <td>-0.151635</td>\n",
       "      <td>-0.848365</td>\n",
       "      <td>0.0</td>\n",
       "    </tr>\n",
       "  </tbody>\n",
       "</table>\n",
       "</div>"
      ],
      "text/plain": [
       "   Hlth  Fin     Whlsl     Rtail  Food\n",
       "0   1.0  0.0 -0.151635 -0.848365   0.0"
      ]
     },
     "execution_count": 119,
     "metadata": {},
     "output_type": "execute_result"
    }
   ],
   "source": [
    "q = pd.Series([0.03])\n",
    "# The Pick Matrix\n",
    "p = pd.DataFrame([0.]*len(inds), index=inds).T\n",
    "p[[\"Rtail\", \"Whlsl\"]] = pd.DataFrame(-weights[[\"Rtail\", \"Whlsl\"]] / weights[[\"Rtail\", \"Whlsl\"]].sum()).T.set_index(p.index)\n",
    "p['Hlth'] = 1.\n",
    "p"
   ]
  },
  {
   "cell_type": "code",
   "execution_count": 127,
   "metadata": {},
   "outputs": [],
   "source": [
    "def implied_returns(delta, sigma, w):\n",
    "    \"\"\"\n",
    "Obtain the implied expected returns by reverse engineering the weights\n",
    "Inputs:\n",
    "delta: Risk Aversion Coefficient (scalar)\n",
    "sigma: Variance-Covariance Matrix (N x N) as DataFrame\n",
    "    w: Portfolio weights (N x 1) as Series\n",
    "Returns an N x 1 vector of Returns as Series\n",
    "    \"\"\"\n",
    "    ir = delta * sigma.dot(w).squeeze() # to get a series from a 1-column dataframe\n",
    "    ir.name = 'Implied Returns'\n",
    "    return ir\n",
    "\n",
    "# Assumes that Omega is proportional to the variance of the prior\n",
    "def proportional_prior(sigma, tau, p):\n",
    "    \"\"\"\n",
    "    Returns the He-Litterman simplified Omega\n",
    "    Inputs:\n",
    "    sigma: N x N Covariance Matrix as DataFrame\n",
    "    tau: a scalar\n",
    "    p: a K x N DataFrame linking Q and Assets\n",
    "    returns a P x P DataFrame, a Matrix representing Prior Uncertainties\n",
    "    \"\"\"\n",
    "    helit_omega = p.dot(tau * sigma).dot(p.T)\n",
    "    # Make a diag matrix from the diag elements of Omega\n",
    "    return pd.DataFrame(np.diag(np.diag(helit_omega.values)),index=p.index, columns=p.index)\n",
    "\n",
    "\n",
    "from numpy.linalg import inv\n",
    "\n",
    "def bl(w_prior, sigma_prior, p, q,\n",
    "                omega=None,\n",
    "                delta=2.5, tau=.02):\n",
    "    \"\"\"\n",
    "# Computes the posterior expected returns based on \n",
    "# the original black litterman reference model\n",
    "#\n",
    "# W.prior must be an N x 1 vector of weights, a Series\n",
    "# Sigma.prior is an N x N covariance matrix, a DataFrame\n",
    "# P must be a K x N matrix linking Q and the Assets, a DataFrame\n",
    "# Q must be an K x 1 vector of views, a Series\n",
    "# Omega must be a K x K matrix a DataFrame, or None\n",
    "# if Omega is None, we assume it is\n",
    "#    proportional to variance of the prior\n",
    "# delta and tau are scalars\n",
    "    \"\"\"\n",
    "    if omega is None:\n",
    "        omega = proportional_prior(sigma_prior, tau, p)\n",
    "    # Force w.prior and Q to be column vectors\n",
    "    # How many assets do we have?\n",
    "    N = w_prior.shape[0]\n",
    "    # And how many views?\n",
    "    K = q.shape[0]\n",
    "    # First, reverse-engineer the weights to get pi\n",
    "    pi = implied_returns(delta, sigma_prior,  w_prior)\n",
    "    # Adjust (scale) Sigma by the uncertainty scaling factor\n",
    "    sigma_prior_scaled = tau * sigma_prior  \n",
    "    # posterior estimate of the mean, use the \"Master Formula\"\n",
    "    # we use the versions that do not require\n",
    "    # Omega to be inverted (see previous section)\n",
    "    # this is easier to read if we use '@' for matrixmult instead of .dot()\n",
    "    #     mu_bl = pi + sigma_prior_scaled @ p.T @ inv(p @ sigma_prior_scaled @ p.T + omega) @ (q - p @ pi)\n",
    "    mu_bl = pi + sigma_prior_scaled.dot(p.T).dot(inv(p.dot(sigma_prior_scaled).dot(p.T) + omega).dot(q - p.dot(pi).values))\n",
    "    # posterior estimate of uncertainty of mu.bl\n",
    "#     sigma_bl = sigma_prior + sigma_prior_scaled - sigma_prior_scaled @ p.T @ inv(p @ sigma_prior_scaled @ p.T + omega) @ p @ sigma_prior_scaled\n",
    "    sigma_bl = sigma_prior + sigma_prior_scaled - sigma_prior_scaled.dot(p.T).dot(inv(p.dot(sigma_prior_scaled).dot(p.T) + omega)).dot(p).dot(sigma_prior_scaled)\n",
    "    return (mu_bl, sigma_bl)\n"
   ]
  },
  {
   "cell_type": "code",
   "execution_count": 128,
   "metadata": {},
   "outputs": [
    {
     "data": {
      "text/plain": [
       "Hlth     0.179360\n",
       "Fin      0.170206\n",
       "Whlsl    0.193356\n",
       "Rtail    0.199007\n",
       "Food     0.144841\n",
       "dtype: float64"
      ]
     },
     "execution_count": 128,
     "metadata": {},
     "output_type": "execute_result"
    }
   ],
   "source": [
    "# Find the Black Litterman Expected Returns\n",
    "bl_mu, bl_sigma = bl(w_prior=weights, sigma_prior=sigma_prior, p=p, q=q)\n",
    "# Black Litterman Implied Mu\n",
    "bl_mu"
   ]
  },
  {
   "cell_type": "code",
   "execution_count": 129,
   "metadata": {},
   "outputs": [],
   "source": [
    "# for convenience and readability, define the inverse of a dataframe\n",
    "def inverse(d):\n",
    "    \"\"\"\n",
    "    Invert the dataframe by inverting the underlying matrix\n",
    "    \"\"\"\n",
    "    return pd.DataFrame(inv(d.values), index=d.columns, columns=d.index)\n",
    "\n",
    "def w_msr(sigma, mu, scale=True):\n",
    "    \"\"\"\n",
    "    Optimal (Tangent/Max Sharpe Ratio) Portfolio weights\n",
    "    by using the Markowitz Optimization Procedure\n",
    "    Mu is the vector of Excess expected Returns\n",
    "    Sigma must be an N x N matrix as a DataFrame and Mu a column vector as a Series\n",
    "    This implements page 188 Equation 5.2.28 of\n",
    "    \"The econometrics of financial markets\" Campbell, Lo and Mackinlay.\n",
    "    \"\"\"\n",
    "    w = inverse(sigma).dot(mu)\n",
    "    if scale:\n",
    "        w = w/sum(w) # fix: this assumes all w is +ve\n",
    "    return w"
   ]
  },
  {
   "cell_type": "code",
   "execution_count": 134,
   "metadata": {},
   "outputs": [
    {
     "data": {
      "text/plain": [
       "Rtail    33.83\n",
       "Hlth     27.72\n",
       "Fin      18.45\n",
       "Food     13.95\n",
       "Whlsl     6.05\n",
       "dtype: float64"
      ]
     },
     "execution_count": 134,
     "metadata": {},
     "output_type": "execute_result"
    }
   ],
   "source": [
    "np.round(w_msr(bl_sigma, bl_mu)*100, 2).sort_values(ascending=False)"
   ]
  },
  {
   "cell_type": "code",
   "execution_count": 138,
   "metadata": {},
   "outputs": [
    {
     "data": {
      "text/html": [
       "<div>\n",
       "<style scoped>\n",
       "    .dataframe tbody tr th:only-of-type {\n",
       "        vertical-align: middle;\n",
       "    }\n",
       "\n",
       "    .dataframe tbody tr th {\n",
       "        vertical-align: top;\n",
       "    }\n",
       "\n",
       "    .dataframe thead th {\n",
       "        text-align: right;\n",
       "    }\n",
       "</style>\n",
       "<table border=\"1\" class=\"dataframe\">\n",
       "  <thead>\n",
       "    <tr style=\"text-align: right;\">\n",
       "      <th></th>\n",
       "      <th>Hlth</th>\n",
       "      <th>Fin</th>\n",
       "      <th>Whlsl</th>\n",
       "      <th>Rtail</th>\n",
       "      <th>Food</th>\n",
       "    </tr>\n",
       "  </thead>\n",
       "  <tbody>\n",
       "    <tr>\n",
       "      <td>0</td>\n",
       "      <td>1.0</td>\n",
       "      <td>0.0</td>\n",
       "      <td>-0.151635</td>\n",
       "      <td>-0.848365</td>\n",
       "      <td>0.0</td>\n",
       "    </tr>\n",
       "  </tbody>\n",
       "</table>\n",
       "</div>"
      ],
      "text/plain": [
       "   Hlth  Fin     Whlsl     Rtail  Food\n",
       "0   1.0  0.0 -0.151635 -0.848365   0.0"
      ]
     },
     "execution_count": 138,
     "metadata": {},
     "output_type": "execute_result"
    }
   ],
   "source": [
    "q = pd.Series([0.05])\n",
    "p"
   ]
  },
  {
   "cell_type": "code",
   "execution_count": 139,
   "metadata": {},
   "outputs": [
    {
     "data": {
      "text/plain": [
       "Rtail    0.193932\n",
       "Whlsl    0.191629\n",
       "Hlth     0.184792\n",
       "Fin      0.168919\n",
       "Food     0.142241\n",
       "dtype: float64"
      ]
     },
     "execution_count": 139,
     "metadata": {},
     "output_type": "execute_result"
    }
   ],
   "source": [
    "# Find the Black Litterman Expected Returns\n",
    "bl_mu, bl_sigma = bl(w_prior=weights, sigma_prior=sigma_prior, p=p, q=q)\n",
    "# Black Litterman Implied Mu\n",
    "bl_mu.sort_values(ascending=False)"
   ]
  },
  {
   "cell_type": "code",
   "execution_count": 137,
   "metadata": {},
   "outputs": [
    {
     "data": {
      "text/plain": [
       "Hlth     32.59\n",
       "Rtail    29.70\n",
       "Fin      18.45\n",
       "Food     13.95\n",
       "Whlsl     5.31\n",
       "dtype: float64"
      ]
     },
     "execution_count": 137,
     "metadata": {},
     "output_type": "execute_result"
    }
   ],
   "source": [
    "np.round(w_msr(bl_sigma, bl_mu)*100, 2).sort_values(ascending=False)"
   ]
  }
 ],
 "metadata": {
  "kernelspec": {
   "display_name": "Python 3",
   "language": "python",
   "name": "python3"
  },
  "language_info": {
   "codemirror_mode": {
    "name": "ipython",
    "version": 3
   },
   "file_extension": ".py",
   "mimetype": "text/x-python",
   "name": "python",
   "nbconvert_exporter": "python",
   "pygments_lexer": "ipython3",
   "version": "3.7.4"
  }
 },
 "nbformat": 4,
 "nbformat_minor": 4
}
