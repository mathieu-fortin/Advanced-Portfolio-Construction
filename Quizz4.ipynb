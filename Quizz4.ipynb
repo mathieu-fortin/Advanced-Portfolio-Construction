{
 "cells": [
  {
   "cell_type": "code",
   "execution_count": 1,
   "metadata": {},
   "outputs": [],
   "source": [
    "import numpy as np\n",
    "import pandas as pd\n",
    "\n",
    "import edhec_risk_kit_206 as erk\n",
    "\n",
    "%load_ext autoreload\n",
    "%autoreload 2\n",
    "%matplotlib inline"
   ]
  },
  {
   "cell_type": "code",
   "execution_count": 4,
   "metadata": {},
   "outputs": [],
   "source": [
    "ind_rets = erk.get_ind_returns(weighting=\"vw\", n_inds=49)[\"2014\":\"2018\"]\n",
    "ind_mcap = erk.get_ind_market_caps(49, weights=True)[\"2014\":\"2018\"]\n",
    "cw = erk.weight_cw(ind_rets, ind_mcap)"
   ]
  },
  {
   "cell_type": "code",
   "execution_count": 5,
   "metadata": {},
   "outputs": [],
   "source": [
    "def risk_contribution(w,cov):\n",
    "    \"\"\"\n",
    "    Compute the contributions to risk of the constituents of a portfolio, given a set of portfolio weights and a covariance matrix\n",
    "    \"\"\"\n",
    "    total_portfolio_var = erk.portfolio_vol(w,cov)**2\n",
    "    # Marginal contribution of each constituent\n",
    "    marginal_contrib = cov@w\n",
    "    risk_contrib = np.multiply(marginal_contrib,w.T)/total_portfolio_var\n",
    "    return risk_contrib"
   ]
  },
  {
   "cell_type": "code",
   "execution_count": 8,
   "metadata": {},
   "outputs": [
    {
     "data": {
      "text/plain": [
       "Banks    0.103966\n",
       "Softw    0.098402\n",
       "Drugs    0.089100\n",
       "Oil      0.085238\n",
       "Rtail    0.067192\n",
       "dtype: float64"
      ]
     },
     "execution_count": 8,
     "metadata": {},
     "output_type": "execute_result"
    }
   ],
   "source": [
    "cov = ind_rets.cov()\n",
    "risk_contribution(cw, cov).sort_values(ascending=False).head()"
   ]
  },
  {
   "cell_type": "code",
   "execution_count": 38,
   "metadata": {},
   "outputs": [
    {
     "data": {
      "text/plain": [
       "Steel    0.030938\n",
       "Ships    0.030005\n",
       "Coal     0.029025\n",
       "Mines    0.028641\n",
       "BldMt    0.028106\n",
       "dtype: float64"
      ]
     },
     "execution_count": 38,
     "metadata": {},
     "output_type": "execute_result"
    }
   ],
   "source": [
    "ew = erk.weight_ew(ind_rets)\n",
    "risk_contribution(ew, cov).sort_values(ascending=False).head()"
   ]
  },
  {
   "cell_type": "code",
   "execution_count": 10,
   "metadata": {
    "jupyter": {
     "source_hidden": true
    }
   },
   "outputs": [],
   "source": []
  },
  {
   "cell_type": "code",
   "execution_count": 12,
   "metadata": {},
   "outputs": [],
   "source": [
    "def weight_erc(r, cov_estimator=erk.sample_cov, **kwargs):\n",
    "    \"\"\"\n",
    "    Produces the weights of the ERC portfolio given a covariance matrix of the returns \n",
    "    \"\"\"\n",
    "    est_cov = cov_estimator(r, **kwargs)\n",
    "    return equal_risk_contributions(est_cov)"
   ]
  },
  {
   "cell_type": "code",
   "execution_count": 28,
   "metadata": {},
   "outputs": [],
   "source": [
    "werc = pd.Series(weight_erc(ind_rets, cov_estimator=erk.sample_cov), index=ind_rets.columns)"
   ]
  },
  {
   "cell_type": "code",
   "execution_count": 29,
   "metadata": {},
   "outputs": [
    {
     "data": {
      "text/plain": [
       "Util     0.052156\n",
       "Hshld    0.033184\n",
       "Smoke    0.032606\n",
       "Beer     0.032028\n",
       "Food     0.030251\n",
       "dtype: float64"
      ]
     },
     "execution_count": 29,
     "metadata": {},
     "output_type": "execute_result"
    }
   ],
   "source": [
    "werc.sort_values(ascending=False).head()"
   ]
  },
  {
   "cell_type": "code",
   "execution_count": 30,
   "metadata": {},
   "outputs": [
    {
     "data": {
      "text/plain": [
       "Steel    0.012809\n",
       "Ships    0.013041\n",
       "BldMt    0.013790\n",
       "Mines    0.013951\n",
       "Mach     0.014292\n",
       "dtype: float64"
      ]
     },
     "execution_count": 30,
     "metadata": {},
     "output_type": "execute_result"
    }
   ],
   "source": [
    "werc.sort_values().head()"
   ]
  },
  {
   "cell_type": "code",
   "execution_count": 37,
   "metadata": {},
   "outputs": [
    {
     "data": {
      "text/plain": [
       "Gold          NaN\n",
       "Banks    0.103872\n",
       "dtype: float64"
      ]
     },
     "execution_count": 37,
     "metadata": {},
     "output_type": "execute_result"
    }
   ],
   "source": [
    "risk_contribution(cw, cov).sort_values().iloc[[0,-1]].diff()"
   ]
  },
  {
   "cell_type": "code",
   "execution_count": 39,
   "metadata": {},
   "outputs": [
    {
     "data": {
      "text/plain": [
       "Util          NaN\n",
       "Steel    0.025022\n",
       "dtype: float64"
      ]
     },
     "execution_count": 39,
     "metadata": {},
     "output_type": "execute_result"
    }
   ],
   "source": [
    "risk_contribution(ew, cov).sort_values().iloc[[0,-1]].diff()"
   ]
  }
 ],
 "metadata": {
  "kernelspec": {
   "display_name": "Python 3",
   "language": "python",
   "name": "python3"
  },
  "language_info": {
   "codemirror_mode": {
    "name": "ipython",
    "version": 3
   },
   "file_extension": ".py",
   "mimetype": "text/x-python",
   "name": "python",
   "nbconvert_exporter": "python",
   "pygments_lexer": "ipython3",
   "version": "3.7.4"
  }
 },
 "nbformat": 4,
 "nbformat_minor": 4
}
